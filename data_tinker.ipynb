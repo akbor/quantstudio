{
 "cells": [
  {
   "cell_type": "code",
   "execution_count": null,
   "metadata": {},
   "outputs": [],
   "source": [
    "import streamlit as st\n",
    "import pandas as pd\n",
    "import seaborn as sns\n",
    "import plotly.express as px\n",
    "url = r\"C:\\Users\\Akbor\\Downloads\\Exported_Data.xlsx\"\n",
    "\n",
    "df = pd.read_excel(url)"
   ]
  }
 ],
 "metadata": {
  "kernelspec": {
   "display_name": "Python 3",
   "language": "python",
   "name": "python3"
  },
  "language_info": {
   "name": "python",
   "version": "3.10.10"
  },
  "orig_nbformat": 4,
  "vscode": {
   "interpreter": {
    "hash": "b961097b1b0d7dd5b8c50a1f365b55ede852f5374578a172df590c41547ad6bd"
   }
  }
 },
 "nbformat": 4,
 "nbformat_minor": 2
}
